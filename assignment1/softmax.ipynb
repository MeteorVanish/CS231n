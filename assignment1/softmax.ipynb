{
 "cells": [
  {
   "cell_type": "code",
   "execution_count": null,
   "id": "161a3aa0",
   "metadata": {},
   "outputs": [],
   "source": [
    "# This mounts your Google Drive to the Colab VM.\n",
    "from google.colab import drive\n",
    "drive.mount('/content/drive')\n",
    "\n",
    "# TODO: Enter the foldername in your Drive where you have saved the unzipped\n",
    "# assignment folder, e.g. 'cs231n/assignments/assignment1/'\n",
    "FOLDERNAME = None\n",
    "assert FOLDERNAME is not None, \"[!] Enter the foldername.\"\n",
    "\n",
    "# Now that we've mounted your Drive, this ensures that\n",
    "# the Python interpreter of the Colab VM can load\n",
    "# python files from within it.\n",
    "import sys\n",
    "sys.path.append('/content/drive/My Drive/{}'.format(FOLDERNAME))\n",
    "\n",
    "# This downloads the CIFAR-10 dataset to your Drive\n",
    "# if it doesn't already exist.\n",
    "%cd /content/drive/My\\ Drive/$FOLDERNAME/cs231n/datasets/\n",
    "!bash get_datasets.sh\n",
    "%cd /content/drive/My\\ Drive/$FOLDERNAME"
   ]
  },
  {
   "cell_type": "markdown",
   "id": "26fdca1c",
   "metadata": {
    "tags": [
     "pdf-title"
    ]
   },
   "source": [
    "# Softmax exercise\n",
    "\n",
    "*Complete and hand in this completed worksheet (including its outputs and any supporting code outside of the worksheet) with your assignment submission. For more details see the [assignments page](http://vision.stanford.edu/teaching/cs231n/assignments.html) on the course website.*\n",
    "\n",
    "This exercise is analogous to the SVM exercise. You will:\n",
    "\n",
    "- implement a fully-vectorized **loss function** for the Softmax classifier\n",
    "- implement the fully-vectorized expression for its **analytic gradient**\n",
    "- **check your implementation** with numerical gradient\n",
    "- use a validation set to **tune the learning rate and regularization** strength\n",
    "- **optimize** the loss function with **SGD**\n",
    "- **visualize** the final learned weights\n"
   ]
  },
  {
   "cell_type": "code",
   "execution_count": 1,
   "id": "1f12280f",
   "metadata": {
    "tags": [
     "pdf-ignore"
    ]
   },
   "outputs": [],
   "source": [
    "import random\n",
    "import numpy as np\n",
    "from cs231n.data_utils import load_CIFAR10\n",
    "import matplotlib.pyplot as plt\n",
    "\n",
    "%matplotlib inline\n",
    "plt.rcParams['figure.figsize'] = (10.0, 8.0) # set default size of plots\n",
    "plt.rcParams['image.interpolation'] = 'nearest'\n",
    "plt.rcParams['image.cmap'] = 'gray'\n",
    "\n",
    "# for auto-reloading extenrnal modules\n",
    "# see http://stackoverflow.com/questions/1907993/autoreload-of-modules-in-ipython\n",
    "%load_ext autoreload\n",
    "%autoreload 2"
   ]
  },
  {
   "cell_type": "code",
   "execution_count": 2,
   "id": "ab106c82",
   "metadata": {
    "tags": [
     "pdf-ignore"
    ]
   },
   "outputs": [
    {
     "name": "stdout",
     "output_type": "stream",
     "text": [
      "Train data shape:  (49000, 3073)\n",
      "Train labels shape:  (49000,)\n",
      "Validation data shape:  (1000, 3073)\n",
      "Validation labels shape:  (1000,)\n",
      "Test data shape:  (1000, 3073)\n",
      "Test labels shape:  (1000,)\n",
      "dev data shape:  (500, 3073)\n",
      "dev labels shape:  (500,)\n"
     ]
    }
   ],
   "source": [
    "def get_CIFAR10_data(num_training=49000, num_validation=1000, num_test=1000, num_dev=500):\n",
    "    \"\"\"\n",
    "    Load the CIFAR-10 dataset from disk and perform preprocessing to prepare\n",
    "    it for the linear classifier. These are the same steps as we used for the\n",
    "    SVM, but condensed to a single function.  \n",
    "    \"\"\"\n",
    "    # Load the raw CIFAR-10 data\n",
    "    cifar10_dir = 'cs231n/datasets/cifar-10-batches-py'\n",
    "    \n",
    "    # Cleaning up variables to prevent loading data multiple times (which may cause memory issue)\n",
    "    try:\n",
    "       del X_train, y_train\n",
    "       del X_test, y_test\n",
    "       print('Clear previously loaded data.')\n",
    "    except:\n",
    "       pass\n",
    "\n",
    "    X_train, y_train, X_test, y_test = load_CIFAR10(cifar10_dir)\n",
    "    \n",
    "    # subsample the data\n",
    "    mask = list(range(num_training, num_training + num_validation))\n",
    "    X_val = X_train[mask]\n",
    "    y_val = y_train[mask]\n",
    "    mask = list(range(num_training))\n",
    "    X_train = X_train[mask]\n",
    "    y_train = y_train[mask]\n",
    "    mask = list(range(num_test))\n",
    "    X_test = X_test[mask]\n",
    "    y_test = y_test[mask]\n",
    "    mask = np.random.choice(num_training, num_dev, replace=False)\n",
    "    X_dev = X_train[mask]\n",
    "    y_dev = y_train[mask]\n",
    "    \n",
    "    # Preprocessing: reshape the image data into rows\n",
    "    X_train = np.reshape(X_train, (X_train.shape[0], -1))\n",
    "    X_val = np.reshape(X_val, (X_val.shape[0], -1))\n",
    "    X_test = np.reshape(X_test, (X_test.shape[0], -1))\n",
    "    X_dev = np.reshape(X_dev, (X_dev.shape[0], -1))\n",
    "    \n",
    "    # Normalize the data: subtract the mean image\n",
    "    mean_image = np.mean(X_train, axis = 0)\n",
    "    X_train -= mean_image\n",
    "    X_val -= mean_image\n",
    "    X_test -= mean_image\n",
    "    X_dev -= mean_image\n",
    "    \n",
    "    # add bias dimension and transform into columns\n",
    "    X_train = np.hstack([X_train, np.ones((X_train.shape[0], 1))])\n",
    "    X_val = np.hstack([X_val, np.ones((X_val.shape[0], 1))])\n",
    "    X_test = np.hstack([X_test, np.ones((X_test.shape[0], 1))])\n",
    "    X_dev = np.hstack([X_dev, np.ones((X_dev.shape[0], 1))])\n",
    "    \n",
    "    return X_train, y_train, X_val, y_val, X_test, y_test, X_dev, y_dev\n",
    "\n",
    "\n",
    "# Invoke the above function to get our data.\n",
    "X_train, y_train, X_val, y_val, X_test, y_test, X_dev, y_dev = get_CIFAR10_data()\n",
    "print('Train data shape: ', X_train.shape)\n",
    "print('Train labels shape: ', y_train.shape)\n",
    "print('Validation data shape: ', X_val.shape)\n",
    "print('Validation labels shape: ', y_val.shape)\n",
    "print('Test data shape: ', X_test.shape)\n",
    "print('Test labels shape: ', y_test.shape)\n",
    "print('dev data shape: ', X_dev.shape)\n",
    "print('dev labels shape: ', y_dev.shape)"
   ]
  },
  {
   "cell_type": "markdown",
   "id": "4721c3cb",
   "metadata": {},
   "source": [
    "## Softmax Classifier\n",
    "\n",
    "Your code for this section will all be written inside `cs231n/classifiers/softmax.py`.\n"
   ]
  },
  {
   "cell_type": "code",
   "execution_count": 3,
   "id": "d42765cd",
   "metadata": {},
   "outputs": [
    {
     "name": "stdout",
     "output_type": "stream",
     "text": [
      "loss: 2.376773\n",
      "sanity check: 2.302585\n"
     ]
    }
   ],
   "source": [
    "# First implement the naive softmax loss function with nested loops.\n",
    "# Open the file cs231n/classifiers/softmax.py and implement the\n",
    "# softmax_loss_naive function.\n",
    "\n",
    "from cs231n.classifiers.softmax import softmax_loss_naive\n",
    "import time\n",
    "\n",
    "# Generate a random softmax weight matrix and use it to compute the loss.\n",
    "W = np.random.randn(3073, 10) * 0.0001\n",
    "loss, grad = softmax_loss_naive(W, X_dev, y_dev, 0.0)\n",
    "\n",
    "# As a rough sanity check, our loss should be something close to -log(0.1).\n",
    "print('loss: %f' % loss)\n",
    "print('sanity check: %f' % (-np.log(0.1)))"
   ]
  },
  {
   "cell_type": "markdown",
   "id": "6f88764e",
   "metadata": {
    "tags": [
     "pdf-inline"
    ]
   },
   "source": [
    "**Inline Question 1**\n",
    "\n",
    "Why do we expect our loss to be close to -log(0.1)? Explain briefly.**\n",
    "\n",
    "$\\color{blue}{\\textit Your Answer:}$\n",
    "There are 10 classes in CIFAR-10, so the random possibility of the right class is likely to be 1/10. Therefore the loss is close to -log(0.1)."
   ]
  },
  {
   "cell_type": "code",
   "execution_count": 4,
   "id": "4c2626ef",
   "metadata": {},
   "outputs": [
    {
     "name": "stdout",
     "output_type": "stream",
     "text": [
      "numerical: 1.159168 analytic: 1.159168, relative error: 8.054113e-09\n",
      "numerical: -5.679010 analytic: -5.679010, relative error: 9.972969e-09\n",
      "numerical: 3.058610 analytic: 3.058610, relative error: 1.209821e-08\n",
      "numerical: -2.161719 analytic: -2.161719, relative error: 2.398532e-08\n",
      "numerical: -0.164659 analytic: -0.164659, relative error: 7.316364e-08\n",
      "numerical: -0.001815 analytic: -0.001815, relative error: 8.231452e-06\n",
      "numerical: 3.169350 analytic: 3.169349, relative error: 1.611798e-08\n",
      "numerical: 2.018981 analytic: 2.018981, relative error: 7.815067e-09\n",
      "numerical: -0.265236 analytic: -0.265236, relative error: 1.407261e-07\n",
      "numerical: 1.122195 analytic: 1.122195, relative error: 3.742633e-08\n",
      "numerical: -0.545820 analytic: -0.545820, relative error: 1.623659e-08\n",
      "numerical: -1.653839 analytic: -1.653839, relative error: 4.058487e-09\n",
      "numerical: -0.774564 analytic: -0.774564, relative error: 3.874008e-08\n",
      "numerical: 1.034755 analytic: 1.034755, relative error: 6.433987e-09\n",
      "numerical: -1.725305 analytic: -1.725305, relative error: 8.882420e-09\n",
      "numerical: -0.926297 analytic: -0.926297, relative error: 8.355644e-08\n",
      "numerical: -1.488572 analytic: -1.488572, relative error: 5.866346e-09\n",
      "numerical: -0.861696 analytic: -0.861696, relative error: 1.474572e-08\n",
      "numerical: 1.519214 analytic: 1.519214, relative error: 2.045964e-08\n",
      "numerical: -2.191273 analytic: -2.191273, relative error: 2.522941e-09\n"
     ]
    }
   ],
   "source": [
    "# Complete the implementation of softmax_loss_naive and implement a (naive)\n",
    "# version of the gradient that uses nested loops.\n",
    "loss, grad = softmax_loss_naive(W, X_dev, y_dev, 0.0)\n",
    "\n",
    "# As we did for the SVM, use numeric gradient checking as a debugging tool.\n",
    "# The numeric gradient should be close to the analytic gradient.\n",
    "from cs231n.gradient_check import grad_check_sparse\n",
    "f = lambda w: softmax_loss_naive(w, X_dev, y_dev, 0.0)[0]\n",
    "grad_numerical = grad_check_sparse(f, W, grad, 10)\n",
    "\n",
    "# similar to SVM case, do another gradient check with regularization\n",
    "loss, grad = softmax_loss_naive(W, X_dev, y_dev, 5e1)\n",
    "f = lambda w: softmax_loss_naive(w, X_dev, y_dev, 5e1)[0]\n",
    "grad_numerical = grad_check_sparse(f, W, grad, 10)"
   ]
  },
  {
   "cell_type": "code",
   "execution_count": 5,
   "id": "434e757f",
   "metadata": {},
   "outputs": [
    {
     "name": "stdout",
     "output_type": "stream",
     "text": [
      "naive loss: 2.376773e+00 computed in 0.056517s\n",
      "vectorized loss: 2.376773e+00 computed in 0.003473s\n",
      "Loss difference: 0.000000\n",
      "Gradient difference: 0.000000\n"
     ]
    }
   ],
   "source": [
    "# Now that we have a naive implementation of the softmax loss function and its gradient,\n",
    "# implement a vectorized version in softmax_loss_vectorized.\n",
    "# The two versions should compute the same results, but the vectorized version should be\n",
    "# much faster.\n",
    "tic = time.time()\n",
    "loss_naive, grad_naive = softmax_loss_naive(W, X_dev, y_dev, 0.000005)\n",
    "toc = time.time()\n",
    "print('naive loss: %e computed in %fs' % (loss_naive, toc - tic))\n",
    "\n",
    "from cs231n.classifiers.softmax import softmax_loss_vectorized\n",
    "tic = time.time()\n",
    "loss_vectorized, grad_vectorized = softmax_loss_vectorized(W, X_dev, y_dev, 0.000005)\n",
    "toc = time.time()\n",
    "print('vectorized loss: %e computed in %fs' % (loss_vectorized, toc - tic))\n",
    "\n",
    "# As we did for the SVM, we use the Frobenius norm to compare the two versions\n",
    "# of the gradient.\n",
    "grad_difference = np.linalg.norm(grad_naive - grad_vectorized, ord='fro')\n",
    "print('Loss difference: %f' % np.abs(loss_naive - loss_vectorized))\n",
    "print('Gradient difference: %f' % grad_difference)"
   ]
  },
  {
   "cell_type": "code",
   "execution_count": 6,
   "id": "2e5e374d",
   "metadata": {
    "tags": [
     "code"
    ],
    "test": "tuning"
   },
   "outputs": [
    {
     "name": "stdout",
     "output_type": "stream",
     "text": [
      "lr 1.000000e-07 reg 1.000000e+03 train accuracy: 0.265143 val accuracy: 0.317000\n",
      "lr 1.000000e-07 reg 2.000000e+03 train accuracy: 0.280816 val accuracy: 0.281000\n",
      "lr 1.000000e-07 reg 3.000000e+03 train accuracy: 0.298633 val accuracy: 0.313000\n",
      "lr 1.000000e-07 reg 4.000000e+03 train accuracy: 0.315551 val accuracy: 0.336000\n",
      "lr 1.000000e-07 reg 5.000000e+03 train accuracy: 0.333143 val accuracy: 0.351000\n",
      "lr 2.000000e-07 reg 1.000000e+03 train accuracy: 0.313184 val accuracy: 0.314000\n",
      "lr 2.000000e-07 reg 2.000000e+03 train accuracy: 0.346082 val accuracy: 0.357000\n",
      "lr 2.000000e-07 reg 3.000000e+03 train accuracy: 0.368633 val accuracy: 0.372000\n",
      "lr 2.000000e-07 reg 4.000000e+03 train accuracy: 0.372918 val accuracy: 0.378000\n",
      "lr 2.000000e-07 reg 5.000000e+03 train accuracy: 0.370551 val accuracy: 0.382000\n",
      "lr 3.000000e-07 reg 1.000000e+03 train accuracy: 0.351571 val accuracy: 0.356000\n",
      "lr 3.000000e-07 reg 2.000000e+03 train accuracy: 0.381000 val accuracy: 0.393000\n",
      "lr 3.000000e-07 reg 3.000000e+03 train accuracy: 0.378918 val accuracy: 0.395000\n",
      "lr 3.000000e-07 reg 4.000000e+03 train accuracy: 0.375878 val accuracy: 0.381000\n",
      "lr 3.000000e-07 reg 5.000000e+03 train accuracy: 0.374082 val accuracy: 0.395000\n",
      "lr 4.000000e-07 reg 1.000000e+03 train accuracy: 0.375061 val accuracy: 0.386000\n",
      "lr 4.000000e-07 reg 2.000000e+03 train accuracy: 0.383122 val accuracy: 0.393000\n",
      "lr 4.000000e-07 reg 3.000000e+03 train accuracy: 0.380653 val accuracy: 0.392000\n",
      "lr 4.000000e-07 reg 4.000000e+03 train accuracy: 0.380020 val accuracy: 0.391000\n",
      "lr 4.000000e-07 reg 5.000000e+03 train accuracy: 0.369735 val accuracy: 0.377000\n",
      "lr 5.000000e-07 reg 1.000000e+03 train accuracy: 0.386367 val accuracy: 0.386000\n",
      "lr 5.000000e-07 reg 2.000000e+03 train accuracy: 0.391327 val accuracy: 0.392000\n",
      "lr 5.000000e-07 reg 3.000000e+03 train accuracy: 0.380633 val accuracy: 0.395000\n",
      "lr 5.000000e-07 reg 4.000000e+03 train accuracy: 0.372224 val accuracy: 0.391000\n",
      "lr 5.000000e-07 reg 5.000000e+03 train accuracy: 0.372592 val accuracy: 0.385000\n",
      "lr 6.000000e-07 reg 1.000000e+03 train accuracy: 0.394041 val accuracy: 0.398000\n",
      "lr 6.000000e-07 reg 2.000000e+03 train accuracy: 0.388959 val accuracy: 0.404000\n",
      "lr 6.000000e-07 reg 3.000000e+03 train accuracy: 0.378082 val accuracy: 0.380000\n",
      "lr 6.000000e-07 reg 4.000000e+03 train accuracy: 0.378959 val accuracy: 0.397000\n",
      "lr 6.000000e-07 reg 5.000000e+03 train accuracy: 0.372816 val accuracy: 0.380000\n",
      "lr 7.000000e-07 reg 1.000000e+03 train accuracy: 0.399429 val accuracy: 0.402000\n",
      "lr 7.000000e-07 reg 2.000000e+03 train accuracy: 0.393653 val accuracy: 0.410000\n",
      "lr 7.000000e-07 reg 3.000000e+03 train accuracy: 0.380367 val accuracy: 0.387000\n",
      "lr 7.000000e-07 reg 4.000000e+03 train accuracy: 0.374571 val accuracy: 0.388000\n",
      "lr 7.000000e-07 reg 5.000000e+03 train accuracy: 0.371673 val accuracy: 0.363000\n",
      "lr 8.000000e-07 reg 1.000000e+03 train accuracy: 0.400224 val accuracy: 0.393000\n",
      "lr 8.000000e-07 reg 2.000000e+03 train accuracy: 0.386000 val accuracy: 0.393000\n",
      "lr 8.000000e-07 reg 3.000000e+03 train accuracy: 0.380571 val accuracy: 0.397000\n",
      "lr 8.000000e-07 reg 4.000000e+03 train accuracy: 0.377612 val accuracy: 0.390000\n",
      "lr 8.000000e-07 reg 5.000000e+03 train accuracy: 0.369082 val accuracy: 0.369000\n",
      "lr 9.000000e-07 reg 1.000000e+03 train accuracy: 0.405469 val accuracy: 0.408000\n",
      "lr 9.000000e-07 reg 2.000000e+03 train accuracy: 0.383245 val accuracy: 0.383000\n",
      "lr 9.000000e-07 reg 3.000000e+03 train accuracy: 0.386837 val accuracy: 0.397000\n",
      "lr 9.000000e-07 reg 4.000000e+03 train accuracy: 0.371102 val accuracy: 0.379000\n",
      "lr 9.000000e-07 reg 5.000000e+03 train accuracy: 0.364796 val accuracy: 0.378000\n",
      "best validation accuracy achieved during cross-validation: 0.410000\n"
     ]
    }
   ],
   "source": [
    "# Use the validation set to tune hyperparameters (regularization strength and\n",
    "# learning rate). You should experiment with different ranges for the learning\n",
    "# rates and regularization strengths; if you are careful you should be able to\n",
    "# get a classification accuracy of over 0.35 on the validation set.\n",
    "\n",
    "from cs231n.classifiers import Softmax\n",
    "results = {}\n",
    "best_val = -1\n",
    "best_softmax = None\n",
    "\n",
    "################################################################################\n",
    "# TODO:                                                                        #\n",
    "# Use the validation set to set the learning rate and regularization strength. #\n",
    "# This should be identical to the validation that you did for the SVM; save    #\n",
    "# the best trained softmax classifer in best_softmax.                          #\n",
    "################################################################################\n",
    "\n",
    "# Provided as a reference. You may or may not want to change these hyperparameters\n",
    "learning_rates = [1e-7, 2e-7, 3e-7, 4e-7, 5e-7, 6e-7, 7e-7, 8e-7, 9e-7]\n",
    "regularization_strengths = [1e3, 2e3, 3e3, 4e3, 5e3]\n",
    "\n",
    "# *****START OF YOUR CODE (DO NOT DELETE/MODIFY THIS LINE)*****\n",
    "\n",
    "for i in learning_rates:\n",
    "    for j in regularization_strengths:\n",
    "        softmax = Softmax()\n",
    "        softmax.train(X_train, y_train, learning_rate=i, reg=j, num_iters=1500, verbose=False)\n",
    "        y_train_pred = softmax.predict(X_train)\n",
    "        training_accuracy = np.mean(y_train == y_train_pred)\n",
    "        y_val_pred = softmax.predict(X_val)\n",
    "        validation_accuracy = np.mean(y_val == y_val_pred)\n",
    "        results[(i, j)] = (training_accuracy, validation_accuracy)\n",
    "        if validation_accuracy > best_val:\n",
    "            best_val = validation_accuracy\n",
    "            best_softmax = softmax\n",
    "\n",
    "# *****END OF YOUR CODE (DO NOT DELETE/MODIFY THIS LINE)*****\n",
    "    \n",
    "# Print out results.\n",
    "for lr, reg in sorted(results):\n",
    "    train_accuracy, val_accuracy = results[(lr, reg)]\n",
    "    print('lr %e reg %e train accuracy: %f val accuracy: %f' % (\n",
    "                lr, reg, train_accuracy, val_accuracy))\n",
    "    \n",
    "print('best validation accuracy achieved during cross-validation: %f' % best_val)"
   ]
  },
  {
   "cell_type": "code",
   "execution_count": 7,
   "id": "deb37cc6",
   "metadata": {
    "test": "test"
   },
   "outputs": [
    {
     "name": "stdout",
     "output_type": "stream",
     "text": [
      "softmax on raw pixels final test set accuracy: 0.386000\n"
     ]
    }
   ],
   "source": [
    "# evaluate on test set\n",
    "# Evaluate the best softmax on test set\n",
    "y_test_pred = best_softmax.predict(X_test)\n",
    "test_accuracy = np.mean(y_test == y_test_pred)\n",
    "print('softmax on raw pixels final test set accuracy: %f' % (test_accuracy, ))"
   ]
  },
  {
   "cell_type": "markdown",
   "id": "df501314",
   "metadata": {
    "tags": [
     "pdf-inline"
    ]
   },
   "source": [
    "**Inline Question 2** - *True or False*\n",
    "\n",
    "Suppose the overall training loss is defined as the sum of the per-datapoint loss over all training examples. It is possible to add a new datapoint to a training set that would leave the SVM loss unchanged, but this is not the case with the Softmax classifier loss.\n",
    "\n",
    "$\\color{blue}{\\textit Your Answer:}$\n",
    "True\n",
    "\n",
    "$\\color{blue}{\\textit Your Explanation:}$\n",
    "\n"
   ]
  },
  {
   "cell_type": "code",
   "execution_count": 8,
   "id": "ade33adc",
   "metadata": {},
   "outputs": [
    {
     "data": {
      "image/png": "[encoded data removed]",
      "text/plain": [
       "<Figure size 1000x800 with 10 Axes>"
      ]
     },
     "metadata": {},
     "output_type": "display_data"
    }
   ],
   "source": [
    "# Visualize the learned weights for each class\n",
    "w = best_softmax.W[:-1,:] # strip out the bias\n",
    "w = w.reshape(32, 32, 3, 10)\n",
    "\n",
    "w_min, w_max = np.min(w), np.max(w)\n",
    "\n",
    "classes = ['plane', 'car', 'bird', 'cat', 'deer', 'dog', 'frog', 'horse', 'ship', 'truck']\n",
    "for i in range(10):\n",
    "    plt.subplot(2, 5, i + 1)\n",
    "    \n",
    "    # Rescale the weights to be between 0 and 255\n",
    "    wimg = 255.0 * (w[:, :, :, i].squeeze() - w_min) / (w_max - w_min)\n",
    "    plt.imshow(wimg.astype('uint8'))\n",
    "    plt.axis('off')\n",
    "    plt.title(classes[i])"
   ]
  }
 ],
 "metadata": {
  "kernelspec": {
   "display_name": "Python 3 (ipykernel)",
   "language": "python",
   "name": "python3"
  },
  "language_info": {
   "codemirror_mode": {
    "name": "ipython",
    "version": 3
   },
   "file_extension": ".py",
   "mimetype": "text/x-python",
   "name": "python",
   "nbconvert_exporter": "python",
   "pygments_lexer": "ipython3",
   "version": "3.7.13"
  }
 },
 "nbformat": 4,
 "nbformat_minor": 5
}
